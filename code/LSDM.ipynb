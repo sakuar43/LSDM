{
 "cells": [
  {
   "cell_type": "code",
   "execution_count": null,
   "metadata": {
    "pycharm": {
     "name": "#%%\n",
     "is_executing": true
    }
   },
   "outputs": [
    {
     "name": "stdout",
     "output_type": "stream",
     "text": [
      "Model: \"sequential\"\n",
      "_________________________________________________________________\n",
      " Layer (type)                Output Shape              Param #   \n",
      "=================================================================\n",
      " embedding (Embedding)       (None, None, 128)         439552    \n",
      "                                                                 \n",
      " lstm (LSTM)                 (None, None, 128)         131584    \n",
      "                                                                 \n",
      " lstm_1 (LSTM)               (None, None, 128)         131584    \n",
      "                                                                 \n",
      " time_distributed (TimeDistr  (None, None, 3434)       442986    \n",
      " ibuted)                                                         \n",
      "                                                                 \n",
      "=================================================================\n",
      "Total params: 1,145,706\n",
      "Trainable params: 1,145,706\n",
      "Non-trainable params: 0\n",
      "_________________________________________________________________\n",
      "Epoch 1/20\n"
     ]
    },
    {
     "name": "stderr",
     "output_type": "stream",
     "text": [
      "D:\\ProgramData\\Anaconda3\\lib\\site-packages\\ipykernel_launcher.py:35: UserWarning: `Model.fit_generator` is deprecated and will be removed in a future version. Please use `Model.fit`, which supports generators.\n"
     ]
    },
    {
     "name": "stdout",
     "output_type": "stream",
     "text": [
      " 803/1534 [==============>...............] - ETA: 1:14 - loss: 5.2017"
     ]
    }
   ],
   "source": [
    "import tensorflow as tf\n",
    "from dataset import PoetryDataGenerator, poetry, tokenizer\n",
    "from model import model\n",
    "import settings\n",
    "import utils\n",
    "\n",
    "tf.config.experimental.list_physical_devices('GPU')\n",
    "\n",
    "class Evaluate(tf.keras.callbacks.Callback):\n",
    "    \"\"\"\n",
    "    在每个epoch训练完成后，保留最优权重，并随机生成settings.SHOW_NUM首古诗展示\n",
    "    \"\"\"\n",
    "\n",
    "    def __init__(self):\n",
    "        super().__init__()\n",
    "        # 给loss赋一个较大的初始值\n",
    "        self.lowest = 1e10\n",
    "\n",
    "    def on_epoch_end(self, epoch, logs=None):\n",
    "        # 在每个epoch训练完成后调用\n",
    "        # 如果当前loss更低，就保存当前模型参数\n",
    "        if logs['loss'] <= self.lowest:\n",
    "            self.lowest = logs['loss']\n",
    "            model.save(settings.BEST_MODEL_PATH)\n",
    "        # 随机生成几首古体诗测试，查看训练效果\n",
    "        print()\n",
    "        for i in range(settings.SHOW_NUM):\n",
    "            print(utils.generate_random_poetry(tokenizer, model))\n",
    "\n",
    "\n",
    "# 创建数据集\n",
    "data_generator = PoetryDataGenerator(poetry, random=True)\n",
    "# 开始训练\n",
    "model.fit_generator(data_generator.for_fit(), steps_per_epoch=data_generator.steps, epochs=settings.TRAIN_EPOCHS,\n",
    "                    callbacks=[Evaluate()])\n"
   ]
  },
  {
   "cell_type": "code",
   "execution_count": 6,
   "metadata": {
    "pycharm": {
     "name": "#%%\n"
    }
   },
   "outputs": [
    {
     "name": "stdout",
     "output_type": "stream",
     "text": [
      "二月红尘道，天台出马门。云澄汉门出，天里接风骚。\n",
      "中间风流穴，未是一潸然。夜自惊泥落，归人白发华。长怀旧林月，共立见霜晖。不学将才子，方为小与音。\n",
      "想君寻日去，日夜宿云秋。小壁移藤槛，红蕉鹤乱头。逼禽过客稳，\n"
     ]
    }
   ],
   "source": [
    "import tensorflow as tf\n",
    "from dataset import tokenizer\n",
    "import settings\n",
    "import utils\n",
    "\n",
    "# 加载训练好的模型\n",
    "model = tf.keras.models.load_model(settings.BEST_MODEL_PATH)\n",
    "# 随机生成一首诗\n",
    "print(utils.generate_random_poetry(tokenizer, model))\n",
    "# 给出部分信息的情况下，随机生成剩余部分\n",
    "print(utils.generate_random_poetry(tokenizer, model, s=''))\n",
    "# 生成藏头诗\n",
    "print(utils.generate_acrostic(tokenizer, model, head=''))"
   ]
  },
  {
   "cell_type": "code",
   "execution_count": null,
   "metadata": {
    "pycharm": {
     "name": "#%%\n"
    }
   },
   "outputs": [],
   "source": []
  }
 ],
 "metadata": {
  "kernelspec": {
   "display_name": "Python 3",
   "language": "python",
   "name": "python3"
  },
  "language_info": {
   "codemirror_mode": {
    "name": "ipython",
    "version": 3
   },
   "file_extension": ".py",
   "mimetype": "text/x-python",
   "name": "python",
   "nbconvert_exporter": "python",
   "pygments_lexer": "ipython3",
   "version": "3.7.6"
  }
 },
 "nbformat": 4,
 "nbformat_minor": 1
}